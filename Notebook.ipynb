{
 "cells": [
  {
   "cell_type": "markdown",
   "id": "545b6bfb-f840-48eb-aa58-40c49f2e8448",
   "metadata": {},
   "source": [
    "### Librairies & initialisation"
   ]
  },
  {
   "cell_type": "code",
   "execution_count": 1,
   "id": "2cb53b38-c587-42c2-babf-5cb498b04ad3",
   "metadata": {},
   "outputs": [],
   "source": [
    "######################\n",
    "# librairies de base #\n",
    "######################\n",
    "\n",
    "import pandas as pd\n",
    "import numpy as np\n",
    "import seaborn as sns\n",
    "import matplotlib.pyplot as plt\n",
    "import warnings\n",
    "from OutilsP7 import *\n",
    "\n",
    "##################\n",
    "# SciKit - Learn #\n",
    "##################\n",
    "\n",
    "# Pre-Processing\n",
    "from sklearn.preprocessing import StandardScaler, OneHotEncoder\n",
    "from category_encoders import TargetEncoder\n",
    "from sklearn.model_selection import ShuffleSplit, GridSearchCV, train_test_split\n",
    "from sklearn.decomposition import PCA\n",
    "from sklearn.compose import make_column_transformer\n",
    "from sklearn.pipeline import Pipeline\n",
    "\n",
    "# Classification :\n",
    "from sklearn.ensemble import RandomForestClassifier, GradientBoostingClassifier\n",
    "from sklearn.metrics import accuracy_score, roc_auc_score, f1_score\n",
    "\n",
    "#####################\n",
    "# Autres librairies #\n",
    "#####################\n",
    "import shap\n",
    "import pickle\n",
    "import joblib\n",
    "from mlflow.models.signature import infer_signature\n",
    "import mlflow.sklearn\n",
    "\n",
    "from imblearn.over_sampling import SMOTE"
   ]
  },
  {
   "cell_type": "code",
   "execution_count": 2,
   "id": "38756fae-6bf3-4d82-967e-d1b84dc4b153",
   "metadata": {},
   "outputs": [],
   "source": [
    "# On ingnorera les warning concernant les prochaines versions\n",
    "def warn(*args, **kwargs):\n",
    "    pass\n",
    "warnings.warn = warn"
   ]
  },
  {
   "cell_type": "code",
   "execution_count": 3,
   "id": "200ecbc0-6a66-4c98-907c-f2138a89235c",
   "metadata": {},
   "outputs": [],
   "source": [
    "path = \"dataset/\""
   ]
  },
  {
   "cell_type": "markdown",
   "id": "a3edc780-e14a-48f1-9fba-74c3fb3bd78f",
   "metadata": {},
   "source": [
    "### Exploration"
   ]
  },
  {
   "cell_type": "code",
   "execution_count": 4,
   "id": "39aecc46-be1f-4d02-a73d-5c83931b6e16",
   "metadata": {},
   "outputs": [
    {
     "name": "stdout",
     "output_type": "stream",
     "text": [
      "Il y a 9152465 valeurs manquantes sur 37516342 valeurs totales.\n",
      "Le taux de remplissage est de : 75.6 %\n",
      "Dimension du dataframe : (307511, 122)\n"
     ]
    },
    {
     "data": {
      "text/html": [
       "<div>\n",
       "<style scoped>\n",
       "    .dataframe tbody tr th:only-of-type {\n",
       "        vertical-align: middle;\n",
       "    }\n",
       "\n",
       "    .dataframe tbody tr th {\n",
       "        vertical-align: top;\n",
       "    }\n",
       "\n",
       "    .dataframe thead th {\n",
       "        text-align: right;\n",
       "    }\n",
       "</style>\n",
       "<table border=\"1\" class=\"dataframe\">\n",
       "  <thead>\n",
       "    <tr style=\"text-align: right;\">\n",
       "      <th></th>\n",
       "      <th>count</th>\n",
       "      <th>dtype</th>\n",
       "      <th>primary_key</th>\n",
       "      <th>nb_of_NaN</th>\n",
       "      <th>%_of_NaN</th>\n",
       "      <th>n_unique</th>\n",
       "      <th>unique_most_freq</th>\n",
       "      <th>num_mean</th>\n",
       "      <th>num_median</th>\n",
       "      <th>num_min</th>\n",
       "      <th>num_max</th>\n",
       "      <th>num_std</th>\n",
       "    </tr>\n",
       "  </thead>\n",
       "  <tbody>\n",
       "    <tr>\n",
       "      <th>SK_ID_CURR</th>\n",
       "      <td>307511</td>\n",
       "      <td>int64</td>\n",
       "      <td>True</td>\n",
       "      <td>0</td>\n",
       "      <td>0.0</td>\n",
       "      <td>307511</td>\n",
       "      <td>NaN</td>\n",
       "      <td>278180.518577</td>\n",
       "      <td>278202.0</td>\n",
       "      <td>100002</td>\n",
       "      <td>456255</td>\n",
       "      <td>102790.175348</td>\n",
       "    </tr>\n",
       "    <tr>\n",
       "      <th>TARGET</th>\n",
       "      <td>307511</td>\n",
       "      <td>int64</td>\n",
       "      <td>False</td>\n",
       "      <td>0</td>\n",
       "      <td>0.0</td>\n",
       "      <td>2</td>\n",
       "      <td>0</td>\n",
       "      <td>0.080729</td>\n",
       "      <td>0.0</td>\n",
       "      <td>0</td>\n",
       "      <td>1</td>\n",
       "      <td>0.272419</td>\n",
       "    </tr>\n",
       "    <tr>\n",
       "      <th>NAME_CONTRACT_TYPE</th>\n",
       "      <td>307511</td>\n",
       "      <td>object</td>\n",
       "      <td>False</td>\n",
       "      <td>0</td>\n",
       "      <td>0.0</td>\n",
       "      <td>2</td>\n",
       "      <td>Cash loans</td>\n",
       "      <td>NaN</td>\n",
       "      <td>NaN</td>\n",
       "      <td>NaN</td>\n",
       "      <td>NaN</td>\n",
       "      <td>NaN</td>\n",
       "    </tr>\n",
       "    <tr>\n",
       "      <th>CODE_GENDER</th>\n",
       "      <td>307511</td>\n",
       "      <td>object</td>\n",
       "      <td>False</td>\n",
       "      <td>0</td>\n",
       "      <td>0.0</td>\n",
       "      <td>3</td>\n",
       "      <td>F</td>\n",
       "      <td>NaN</td>\n",
       "      <td>NaN</td>\n",
       "      <td>NaN</td>\n",
       "      <td>NaN</td>\n",
       "      <td>NaN</td>\n",
       "    </tr>\n",
       "    <tr>\n",
       "      <th>FLAG_OWN_CAR</th>\n",
       "      <td>307511</td>\n",
       "      <td>object</td>\n",
       "      <td>False</td>\n",
       "      <td>0</td>\n",
       "      <td>0.0</td>\n",
       "      <td>2</td>\n",
       "      <td>N</td>\n",
       "      <td>NaN</td>\n",
       "      <td>NaN</td>\n",
       "      <td>NaN</td>\n",
       "      <td>NaN</td>\n",
       "      <td>NaN</td>\n",
       "    </tr>\n",
       "    <tr>\n",
       "      <th>...</th>\n",
       "      <td>...</td>\n",
       "      <td>...</td>\n",
       "      <td>...</td>\n",
       "      <td>...</td>\n",
       "      <td>...</td>\n",
       "      <td>...</td>\n",
       "      <td>...</td>\n",
       "      <td>...</td>\n",
       "      <td>...</td>\n",
       "      <td>...</td>\n",
       "      <td>...</td>\n",
       "      <td>...</td>\n",
       "    </tr>\n",
       "    <tr>\n",
       "      <th>AMT_REQ_CREDIT_BUREAU_DAY</th>\n",
       "      <td>265992</td>\n",
       "      <td>float64</td>\n",
       "      <td>False</td>\n",
       "      <td>41519</td>\n",
       "      <td>13.5</td>\n",
       "      <td>9</td>\n",
       "      <td>0.0</td>\n",
       "      <td>0.007</td>\n",
       "      <td>0.0</td>\n",
       "      <td>0.0</td>\n",
       "      <td>9.0</td>\n",
       "      <td>0.110757</td>\n",
       "    </tr>\n",
       "    <tr>\n",
       "      <th>AMT_REQ_CREDIT_BUREAU_WEEK</th>\n",
       "      <td>265992</td>\n",
       "      <td>float64</td>\n",
       "      <td>False</td>\n",
       "      <td>41519</td>\n",
       "      <td>13.5</td>\n",
       "      <td>9</td>\n",
       "      <td>0.0</td>\n",
       "      <td>0.034362</td>\n",
       "      <td>0.0</td>\n",
       "      <td>0.0</td>\n",
       "      <td>8.0</td>\n",
       "      <td>0.204685</td>\n",
       "    </tr>\n",
       "    <tr>\n",
       "      <th>AMT_REQ_CREDIT_BUREAU_MON</th>\n",
       "      <td>265992</td>\n",
       "      <td>float64</td>\n",
       "      <td>False</td>\n",
       "      <td>41519</td>\n",
       "      <td>13.5</td>\n",
       "      <td>24</td>\n",
       "      <td>0.0</td>\n",
       "      <td>0.267395</td>\n",
       "      <td>0.0</td>\n",
       "      <td>0.0</td>\n",
       "      <td>27.0</td>\n",
       "      <td>0.916002</td>\n",
       "    </tr>\n",
       "    <tr>\n",
       "      <th>AMT_REQ_CREDIT_BUREAU_QRT</th>\n",
       "      <td>265992</td>\n",
       "      <td>float64</td>\n",
       "      <td>False</td>\n",
       "      <td>41519</td>\n",
       "      <td>13.5</td>\n",
       "      <td>11</td>\n",
       "      <td>0.0</td>\n",
       "      <td>0.265474</td>\n",
       "      <td>0.0</td>\n",
       "      <td>0.0</td>\n",
       "      <td>261.0</td>\n",
       "      <td>0.794056</td>\n",
       "    </tr>\n",
       "    <tr>\n",
       "      <th>AMT_REQ_CREDIT_BUREAU_YEAR</th>\n",
       "      <td>265992</td>\n",
       "      <td>float64</td>\n",
       "      <td>False</td>\n",
       "      <td>41519</td>\n",
       "      <td>13.5</td>\n",
       "      <td>25</td>\n",
       "      <td>0.0</td>\n",
       "      <td>1.899974</td>\n",
       "      <td>1.0</td>\n",
       "      <td>0.0</td>\n",
       "      <td>25.0</td>\n",
       "      <td>1.869295</td>\n",
       "    </tr>\n",
       "  </tbody>\n",
       "</table>\n",
       "<p>122 rows × 12 columns</p>\n",
       "</div>"
      ],
      "text/plain": [
       "                             count    dtype  primary_key  nb_of_NaN  %_of_NaN  \\\n",
       "SK_ID_CURR                  307511    int64         True          0       0.0   \n",
       "TARGET                      307511    int64        False          0       0.0   \n",
       "NAME_CONTRACT_TYPE          307511   object        False          0       0.0   \n",
       "CODE_GENDER                 307511   object        False          0       0.0   \n",
       "FLAG_OWN_CAR                307511   object        False          0       0.0   \n",
       "...                            ...      ...          ...        ...       ...   \n",
       "AMT_REQ_CREDIT_BUREAU_DAY   265992  float64        False      41519      13.5   \n",
       "AMT_REQ_CREDIT_BUREAU_WEEK  265992  float64        False      41519      13.5   \n",
       "AMT_REQ_CREDIT_BUREAU_MON   265992  float64        False      41519      13.5   \n",
       "AMT_REQ_CREDIT_BUREAU_QRT   265992  float64        False      41519      13.5   \n",
       "AMT_REQ_CREDIT_BUREAU_YEAR  265992  float64        False      41519      13.5   \n",
       "\n",
       "                            n_unique unique_most_freq       num_mean  \\\n",
       "SK_ID_CURR                    307511              NaN  278180.518577   \n",
       "TARGET                             2                0       0.080729   \n",
       "NAME_CONTRACT_TYPE                 2       Cash loans            NaN   \n",
       "CODE_GENDER                        3                F            NaN   \n",
       "FLAG_OWN_CAR                       2                N            NaN   \n",
       "...                              ...              ...            ...   \n",
       "AMT_REQ_CREDIT_BUREAU_DAY          9              0.0          0.007   \n",
       "AMT_REQ_CREDIT_BUREAU_WEEK         9              0.0       0.034362   \n",
       "AMT_REQ_CREDIT_BUREAU_MON         24              0.0       0.267395   \n",
       "AMT_REQ_CREDIT_BUREAU_QRT         11              0.0       0.265474   \n",
       "AMT_REQ_CREDIT_BUREAU_YEAR        25              0.0       1.899974   \n",
       "\n",
       "                           num_median num_min num_max        num_std  \n",
       "SK_ID_CURR                   278202.0  100002  456255  102790.175348  \n",
       "TARGET                            0.0       0       1       0.272419  \n",
       "NAME_CONTRACT_TYPE                NaN     NaN     NaN            NaN  \n",
       "CODE_GENDER                       NaN     NaN     NaN            NaN  \n",
       "FLAG_OWN_CAR                      NaN     NaN     NaN            NaN  \n",
       "...                               ...     ...     ...            ...  \n",
       "AMT_REQ_CREDIT_BUREAU_DAY         0.0     0.0     9.0       0.110757  \n",
       "AMT_REQ_CREDIT_BUREAU_WEEK        0.0     0.0     8.0       0.204685  \n",
       "AMT_REQ_CREDIT_BUREAU_MON         0.0     0.0    27.0       0.916002  \n",
       "AMT_REQ_CREDIT_BUREAU_QRT         0.0     0.0   261.0       0.794056  \n",
       "AMT_REQ_CREDIT_BUREAU_YEAR        1.0     0.0    25.0       1.869295  \n",
       "\n",
       "[122 rows x 12 columns]"
      ]
     },
     "execution_count": 4,
     "metadata": {},
     "output_type": "execute_result"
    },
    {
     "data": {
      "image/png": "[encoded data removed]",
      "text/plain": [
       "<Figure size 2500x1000 with 2 Axes>"
      ]
     },
     "metadata": {},
     "output_type": "display_data"
    }
   ],
   "source": [
    "data = pd.read_csv(path + 'application_train.csv')\n",
    "dataFrameInfos(data)"
   ]
  },
  {
   "cell_type": "markdown",
   "id": "e4c05bbb-b2a6-406f-8436-70b78eb3a82e",
   "metadata": {},
   "source": [
    "### Valeurs manquantes"
   ]
  },
  {
   "cell_type": "code",
   "execution_count": 5,
   "id": "e2bf9eb0-3438-4249-8893-b38d9b11aea6",
   "metadata": {},
   "outputs": [
    {
     "name": "stdout",
     "output_type": "stream",
     "text": [
      "Il y a 9152465 valeurs manquantes sur 37516342 valeurs totales.\n",
      "Le taux de remplissage est de : 75.6 %\n",
      "Dimension du dataframe : (307511, 122)\n"
     ]
    },
    {
     "data": {
      "image/png": "[encoded data removed]",
      "text/plain": [
       "<Figure size 2500x1000 with 2 Axes>"
      ]
     },
     "metadata": {},
     "output_type": "display_data"
    }
   ],
   "source": [
    "indexByNAN = data.isna().sum(axis = 1).sort_values().index\n",
    "data = data.reindex(indexByNAN)\n",
    "columnsInfos = dataFrameInfos(data)"
   ]
  },
  {
   "cell_type": "code",
   "execution_count": 6,
   "id": "e2a06d57-b1f6-42a7-ae21-fc61a72726f9",
   "metadata": {},
   "outputs": [],
   "source": [
    "# Supression des colonnes ave cplus de 10% de NaN\n",
    "tooMuchNaN = columnsInfos.loc[columnsInfos['%_of_NaN'] > 10].index\n",
    "trainingSet = data.drop(tooMuchNaN, axis = 1)\n",
    "\n",
    "# Supression des lignes avec des NaN restants\n",
    "trainingSet.dropna(axis = 0, inplace = True)"
   ]
  },
  {
   "cell_type": "code",
   "execution_count": 7,
   "id": "c114511f-df87-4771-987a-74ddc3b0cc8d",
   "metadata": {},
   "outputs": [
    {
     "data": {
      "text/plain": [
       "Text(0.5, 1.0, 'Répartition de la variable cible dans le dataset nettoyé.')"
      ]
     },
     "execution_count": 7,
     "metadata": {},
     "output_type": "execute_result"
    },
    {
     "data": {
      "image/png": "[encoded data removed]",
      "text/plain": [
       "<Figure size 640x480 with 1 Axes>"
      ]
     },
     "metadata": {},
     "output_type": "display_data"
    }
   ],
   "source": [
    "data['TARGET'].value_counts().plot.pie(colors = ['green','firebrick'])\n",
    "plt.title(\"Répartition de la variable cible dans le dataset nettoyé.\")"
   ]
  },
  {
   "cell_type": "markdown",
   "id": "29b64c9d-1184-44d7-8e27-b0d7c7d56c27",
   "metadata": {},
   "source": [
    "# <font color = 'red'> __Classification__ </font>\n",
    "## <font color = 'green'> Preprocessing </font>\n",
    "__Récupération des données__"
   ]
  },
  {
   "cell_type": "code",
   "execution_count": 8,
   "id": "970cebf4-6fec-4bff-8368-e1979f4fd5fd",
   "metadata": {},
   "outputs": [
    {
     "name": "stdout",
     "output_type": "stream",
     "text": [
      "Il y a 0 valeurs manquantes sur 19185453 valeurs totales.\n",
      "Le taux de remplissage est de : 100.0 %\n",
      "Dimension du dataframe : (304531, 63)\n"
     ]
    }
   ],
   "source": [
    "# Séparation des variables cible et d'entrées.\n",
    "X_data = trainingSet.drop(['TARGET','SK_ID_CURR'], axis = 1)\n",
    "Y_data = trainingSet['TARGET']\n",
    "\n",
    "# Récupération des informations du dataframe d'entrée\n",
    "columnsInfos = dataFrameInfos(X_data, heatmap = False)"
   ]
  },
  {
   "cell_type": "markdown",
   "id": "d1cd8e0c-7a0e-4432-93f7-e8393b6e55a7",
   "metadata": {},
   "source": [
    "__Transformation des datas d'entrée__"
   ]
  },
  {
   "cell_type": "code",
   "execution_count": 9,
   "id": "e8786074-11e3-4abe-9439-1da041ee546e",
   "metadata": {},
   "outputs": [],
   "source": [
    "# Sélection des colonnes pour l'encodage et la normalisation\n",
    "columnsScaler = columnsInfos.loc[columnsInfos['dtype'] == 'int64',:].index.to_list()\n",
    "columnsScaler = columnsScaler + columnsInfos.loc[columnsInfos['dtype'] == 'float64',:].index.to_list()\n",
    "columnsTargetEncoder = columnsInfos.loc[(columnsInfos['dtype'] == 'object')*(columnsInfos['n_unique'] > 10),:].index.to_list()\n",
    "columnsOneHotEncoder = columnsInfos.loc[(columnsInfos['dtype'] == 'object')*(columnsInfos['n_unique'] <= 10),:].index.to_list()\n",
    "\n",
    "# Montage du transformer\n",
    "transformer = make_column_transformer((OneHotEncoder(handle_unknown = 'error', sparse = False),columnsOneHotEncoder),\n",
    "                                      (TargetEncoder(),columnsTargetEncoder),\n",
    "                                      (StandardScaler(),columnsScaler))"
   ]
  },
  {
   "cell_type": "code",
   "execution_count": 10,
   "id": "3e15a050-c9b0-4042-a4b1-f1a685fac265",
   "metadata": {},
   "outputs": [],
   "source": [
    "# Réglage du transformer et transformation des données\n",
    "X_transformed = transformer.fit_transform(X_data, Y_data)"
   ]
  },
  {
   "cell_type": "markdown",
   "id": "0d363fd0-ba05-4a9b-bed7-3e1e3b179afa",
   "metadata": {},
   "source": [
    "__Egalisation du dataset__\n",
    "<br> Equilibrage des TARGET 0-1 pour eviter un modèle faussé."
   ]
  },
  {
   "cell_type": "code",
   "execution_count": 11,
   "id": "ebacfa6f-0f21-4522-9b60-f93fbb5a9762",
   "metadata": {
    "tags": []
   },
   "outputs": [
    {
     "name": "stdout",
     "output_type": "stream",
     "text": [
      "X_aug.shape : (559728, 100)\n",
      "X_aug.shape : (559728,) \n",
      "\n",
      "\n"
     ]
    },
    {
     "data": {
      "text/plain": [
       "Text(0.5, 1.0, 'Répartition de la variable cible dans le dataset égalisé.')"
      ]
     },
     "execution_count": 11,
     "metadata": {},
     "output_type": "execute_result"
    },
    {
     "data": {
      "image/png": "[encoded data removed]",
      "text/plain": [
       "<Figure size 640x480 with 1 Axes>"
      ]
     },
     "metadata": {},
     "output_type": "display_data"
    }
   ],
   "source": [
    "oversampler = SMOTE()\n",
    "X_aug, Y_aug = oversampler.fit_resample(X_transformed, Y_data)\n",
    "\n",
    "# Dimensions des données égalisées\n",
    "print('X_aug.shape :', X_aug.shape)\n",
    "print('X_aug.shape :', Y_aug.shape, '\\n\\n')\n",
    "\n",
    "# Affichage de la répartition de la variable cible\n",
    "Y_aug.value_counts().plot.pie(colors = ['firebrick','green'])\n",
    "plt.title(\"Répartition de la variable cible dans le dataset égalisé.\")"
   ]
  },
  {
   "cell_type": "markdown",
   "id": "6e397931-12e5-48fd-9f7d-536bdbdc684f",
   "metadata": {},
   "source": [
    "## <font color = 'green'> Modélisation </font>"
   ]
  },
  {
   "cell_type": "markdown",
   "id": "48e26d7c-dc99-48f2-8349-fd863119c2c6",
   "metadata": {},
   "source": [
    "__Train-test-split__"
   ]
  },
  {
   "cell_type": "code",
   "execution_count": 12,
   "id": "9065915c-6217-4833-a3ae-7918d70843b9",
   "metadata": {},
   "outputs": [],
   "source": [
    "cv = ShuffleSplit(5, test_size = 0.2, random_state = 5)\n",
    "X_train, X_test, Y_train, Y_test = train_test_split(X_aug, Y_aug, test_size=0.7, random_state=42)"
   ]
  },
  {
   "cell_type": "markdown",
   "id": "338ebb79-0e59-4eae-8c3c-bf52a561c7e7",
   "metadata": {},
   "source": [
    "__Optimisation d'hyper-paramètres__"
   ]
  },
  {
   "cell_type": "code",
   "execution_count": 13,
   "id": "64e56029-3a3c-4897-aaf4-4a5563359aa1",
   "metadata": {},
   "outputs": [],
   "source": [
    "# Modèle\n",
    "classifier = RandomForestClassifier()\n",
    "\n",
    "# Paramètres candidats\n",
    "param_grid = {'n_estimators' : [100,200,300],\n",
    "              'min_samples_split' : [1,2,3],\n",
    "              'min_samples_leaf' : [1,2,3],\n",
    "              'criterion' : ['gini', 'entropy', 'log_loss']}\n",
    "\n",
    "# Grille de recherche\n",
    "grid = GridSearchCV(estimator=classifier, param_grid=param_grid, cv=cv,\n",
    "                    n_jobs=12, scoring='f1',return_train_score=True)"
   ]
  },
  {
   "cell_type": "code",
   "execution_count": 14,
   "id": "93e62029-9671-4172-ac68-6db49e592a54",
   "metadata": {},
   "outputs": [],
   "source": [
    "# Optimisation des paramètres\n",
    "grid.fit(X_train, Y_train)\n",
    "\n",
    "# Récupération et sauvegarde du dataframe cv_results\n",
    "pd.DataFrame(grid.cv_results_).to_csv('cv_results.csv')"
   ]
  },
  {
   "cell_type": "markdown",
   "id": "b5354d31-1b4e-4d75-91a5-270b236e8295",
   "metadata": {},
   "source": [
    "{'criterion': 'gini',\n",
    " 'min_samples_leaf': 1,\n",
    " 'min_samples_split': 2,\n",
    " 'n_estimators': 300}"
   ]
  },
  {
   "cell_type": "code",
   "execution_count": 15,
   "id": "d36b49c1-0e3f-458b-8ef5-367826e8d18a",
   "metadata": {},
   "outputs": [
    {
     "name": "stdout",
     "output_type": "stream",
     "text": [
      "{'criterion': 'entropy', 'min_samples_leaf': 1, 'min_samples_split': 2, 'n_estimators': 300, 'n_jobs': 12}\n"
     ]
    }
   ],
   "source": [
    "# récupération du meilleur classifier et accélération du modèle\n",
    "params = grid.best_params_\n",
    "params['n_jobs'] = 12\n",
    "classifier.set_params(**params)\n",
    "print(params)"
   ]
  },
  {
   "cell_type": "markdown",
   "id": "ccd536f8-83d1-4f5a-8c44-b812b2be508c",
   "metadata": {},
   "source": [
    "__Entrainement Final__"
   ]
  },
  {
   "cell_type": "code",
   "execution_count": 16,
   "id": "ba741da9-c416-4fa9-b1ac-f88e408c5458",
   "metadata": {},
   "outputs": [],
   "source": [
    "# Augmentation du jeu d'entrainement (80 %)\n",
    "X_train, X_test, Y_train, Y_test = train_test_split(X_aug, Y_aug, test_size=0.2, random_state=43)"
   ]
  },
  {
   "cell_type": "code",
   "execution_count": 17,
   "id": "35a6e1cb-8f8a-478c-81e7-4ab528fcd334",
   "metadata": {},
   "outputs": [
    {
     "data": {
      "text/plain": [
       "RandomForestClassifier(criterion='entropy', n_estimators=300, n_jobs=12)"
      ]
     },
     "execution_count": 17,
     "metadata": {},
     "output_type": "execute_result"
    }
   ],
   "source": [
    "# Entrainement\n",
    "classifier.fit(X_train, Y_train)"
   ]
  },
  {
   "cell_type": "code",
   "execution_count": 18,
   "id": "848ee1d2-7680-41e2-baef-9de9cccf4e63",
   "metadata": {},
   "outputs": [
    {
     "name": "stdout",
     "output_type": "stream",
     "text": [
      "ROC AUC :\n",
      "Train score : 1.0\n",
      "Test  score : 0.9581\n",
      "F1 score :\n",
      "Train score : 1.0\n",
      "Test  score : 0.9563\n"
     ]
    }
   ],
   "source": [
    "print('ROC AUC :')\n",
    "print(\"Train score :\", np.round(roc_auc_score(Y_train, classifier.predict(X_train)),6))\n",
    "print(\"Test  score :\", np.round(roc_auc_score(Y_test, classifier.predict(X_test)),4))\n",
    "print('F1 score :')\n",
    "print(\"Train score :\", np.round(f1_score(Y_train, classifier.predict(X_train)),6))\n",
    "print(\"Test  score :\", np.round(f1_score(Y_test, classifier.predict(X_test)),4))"
   ]
  },
  {
   "cell_type": "code",
   "execution_count": 20,
   "id": "a542a3c6-912e-436d-85be-31733d7c166f",
   "metadata": {},
   "outputs": [
    {
     "data": {
      "text/plain": [
       "['pipeline.joblib']"
      ]
     },
     "execution_count": 20,
     "metadata": {},
     "output_type": "execute_result"
    }
   ],
   "source": [
    "# Montage du pipeline\n",
    "pipe = Pipeline([('transformer',transformer),('classifier', classifier)])\n",
    "\n",
    "# Sauvegarde du pipeline\n",
    "model_bytes = pickle.dumps(pipe)\n",
    "\n",
    "# Utilisez la méthode 'writestr' de chaque fichier zip pour écrire des données dans le fichier\n",
    "joblib.dump(model_bytes[:len(model_bytes)//2], filename = 'modelPart1.joblib', compress = ('lzma', 9))\n",
    "joblib.dump(model_bytes[len(model_bytes)//2:], filename = 'modelPart2.joblib', compress = ('lzma', 9))"
   ]
  },
  {
   "cell_type": "code",
   "execution_count": 21,
   "id": "828cf727-0e50-4dad-b825-940826d79266",
   "metadata": {},
   "outputs": [],
   "source": [
    "import shap"
   ]
  },
  {
   "cell_type": "code",
   "execution_count": null,
   "id": "4d8dfdda-6812-4b87-bdc5-f7737aec48bd",
   "metadata": {},
   "outputs": [],
   "source": [
    "shap_values = shap.TreeExplainer(classifier).shap_values(X_train)"
   ]
  },
  {
   "cell_type": "code",
   "execution_count": null,
   "id": "748d33d1-4011-495e-9f1d-3d38477c48d0",
   "metadata": {},
   "outputs": [],
   "source": [
    "shap.summary_plot(shap_values, X_train, feature_names = None, plot_type=\"bar\",plot_size = (20,10))"
   ]
  }
 ],
 "metadata": {
  "kernelspec": {
   "display_name": "Python 3 (ipykernel)",
   "language": "python",
   "name": "python3"
  },
  "language_info": {
   "codemirror_mode": {
    "name": "ipython",
    "version": 3
   },
   "file_extension": ".py",
   "mimetype": "text/x-python",
   "name": "python",
   "nbconvert_exporter": "python",
   "pygments_lexer": "ipython3",
   "version": "3.10.0"
  }
 },
 "nbformat": 4,
 "nbformat_minor": 5
}
